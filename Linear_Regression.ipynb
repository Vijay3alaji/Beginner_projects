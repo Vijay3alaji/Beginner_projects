{
 "cells": [
  {
   "cell_type": "code",
   "execution_count": 1,
   "metadata": {},
   "outputs": [],
   "source": [
    "import pandas as pd\n",
    "\n",
    "import numpy as np"
   ]
  },
  {
   "cell_type": "code",
   "execution_count": 3,
   "metadata": {},
   "outputs": [],
   "source": [
    "train = pd.read_csv(r\"D:\\PGP DS\\ML\\PROJECT\\regression\\train.csv\")\n",
    "\n",
    "test = pd.read_csv(r\"D:\\PGP DS\\ML\\PROJECT\\regression\\test.csv\")"
   ]
  },
  {
   "cell_type": "code",
   "execution_count": 4,
   "metadata": {},
   "outputs": [],
   "source": [
    "train[\"GarageAge\"] = 2020 - train[\"GarageYrBlt\"]"
   ]
  },
  {
   "cell_type": "code",
   "execution_count": 5,
   "metadata": {},
   "outputs": [],
   "source": [
    "test[\"GarageAge\"] = 2020 - test[\"GarageYrBlt\"]"
   ]
  },
  {
   "cell_type": "code",
   "execution_count": 6,
   "metadata": {},
   "outputs": [],
   "source": [
    "train.drop(columns=\"GarageYrBlt\",inplace = True)"
   ]
  },
  {
   "cell_type": "code",
   "execution_count": 7,
   "metadata": {},
   "outputs": [],
   "source": [
    "test.drop(columns=\"GarageYrBlt\",inplace = True)"
   ]
  },
  {
   "cell_type": "code",
   "execution_count": 8,
   "metadata": {},
   "outputs": [],
   "source": [
    "train[\"Alley\"].fillna(\"No_access\" , inplace = True)\n",
    "train[\"LotFrontage\"].fillna(\"0\" , inplace = True)\n",
    "train[\"MasVnrType\"].fillna(\"None\" , inplace = True)\n",
    "train[\"MasVnrArea\"].fillna(\"0\" , inplace = True)\n",
    "train[\"BsmtQual\"].fillna(\"No_Basement\" , inplace = True)\n",
    "train[\"BsmtCond\"].fillna(\"No_Basement\" , inplace = True)\n",
    "train[\"BsmtExposure\"].fillna(\"No_Basement\" , inplace = True)\n",
    "train[\"BsmtFinType1\"].fillna(\"No_Basement\" , inplace = True)\n",
    "train[\"BsmtFinType2\"].fillna(\"No_Basement\" , inplace = True)\n",
    "train[\"Electrical\"].fillna(\"No_info\" , inplace = True)\n",
    "train[\"FireplaceQu\"].fillna(\"No_Fireplace\" , inplace = True)\n",
    "train[\"GarageType\"].fillna(\"No_Garage\" , inplace = True)\n",
    "train[\"GarageAge\"].fillna(\"0\" , inplace = True)\n",
    "train[\"GarageFinish\"].fillna(\"No_Garage\" , inplace = True)\n",
    "train[\"GarageQual\"].fillna(\"No_Garage\" , inplace = True)\n",
    "train[\"GarageCond\"].fillna(\"No_Garage\" , inplace = True)\n",
    "train[\"PoolQC\"].fillna(\"No_Pool\" , inplace = True)\n",
    "train[\"Fence\"].fillna(\"No_Fence\" , inplace = True)\n",
    "train[\"MiscFeature\"].fillna(\"No_Feature\" , inplace = True)"
   ]
  },
  {
   "cell_type": "code",
   "execution_count": 9,
   "metadata": {},
   "outputs": [],
   "source": [
    "test[\"MSZoning\"].fillna(test[\"MSZoning\"].mode()[0],inplace = True)\n",
    "test[\"Utilities\"].fillna(test[\"Utilities\"].mode()[0],inplace = True)\n",
    "test[\"Exterior1st\"].fillna(test[\"Exterior1st\"].mode()[0],inplace = True)\n",
    "test[\"Exterior2nd\"].fillna(test[\"Exterior2nd\"].mode()[0],inplace = True)\n",
    "test[\"KitchenQual\"].fillna(test[\"KitchenQual\"].mode()[0],inplace = True)\n",
    "test[\"Functional\"].fillna(test[\"Functional\"].mode()[0],inplace = True)\n",
    "test[\"SaleType\"].fillna(test[\"SaleType\"].mode()[0],inplace = True)\n",
    "test[\"Alley\"].fillna(\"No_access\" , inplace = True)\n",
    "test[\"BsmtFinSF1\"].fillna(test[\"BsmtFinSF1\"].mean() , inplace = True)\n",
    "test[\"BsmtFinSF2\"].fillna(test[\"BsmtFinSF2\"].mean() , inplace = True)\n",
    "test[\"BsmtUnfSF\"].fillna(test[\"BsmtUnfSF\"].mean() , inplace = True)\n",
    "test[\"BsmtFullBath\"].fillna(test[\"BsmtFullBath\"].mean() , inplace = True)\n",
    "test[\"BsmtHalfBath\"].fillna(test[\"BsmtHalfBath\"].mean() , inplace = True)\n",
    "test[\"GarageCars\"].fillna(test[\"GarageCars\"].mean() , inplace = True)\n",
    "test[\"GarageArea\"].fillna(test[\"GarageArea\"].mean() , inplace = True)\n",
    "test[\"LotFrontage\"].fillna(test[\"LotFrontage\"].mode()[0],inplace = True)\n",
    "test[\"MasVnrType\"].fillna(\"None\" , inplace = True)\n",
    "test[\"MasVnrArea\"].fillna(\"0\" , inplace = True)\n",
    "test[\"BsmtQual\"].fillna(\"No_Basement\" , inplace = True)\n",
    "test[\"BsmtCond\"].fillna(\"No_Basement\" , inplace = True)\n",
    "test[\"BsmtExposure\"].fillna(\"No_Basement\" , inplace = True)\n",
    "test[\"BsmtFinType1\"].fillna(\"No_Basement\" , inplace = True)\n",
    "test[\"BsmtFinType2\"].fillna(\"No_Basement\" , inplace = True)\n",
    "test[\"Electrical\"].fillna(\"No_info\" , inplace = True)\n",
    "test[\"FireplaceQu\"].fillna(\"No_Fireplace\" , inplace = True)\n",
    "test[\"GarageType\"].fillna(\"No_Garage\" , inplace = True)\n",
    "test[\"GarageAge\"].fillna(\"0\" , inplace = True)\n",
    "test[\"GarageFinish\"].fillna(\"No_Garage\" , inplace = True)\n",
    "test[\"GarageQual\"].fillna(\"No_Garage\" , inplace = True)\n",
    "test[\"GarageCond\"].fillna(\"No_Garage\" , inplace = True)\n",
    "test[\"PoolQC\"].fillna(\"No_Pool\" , inplace = True)\n",
    "test[\"Fence\"].fillna(\"No_Fence\" , inplace = True)\n",
    "test[\"MiscFeature\"].fillna(\"No_Feature\" , inplace = True)\n",
    "test[\"TotalBsmtSF\"].fillna(test[\"TotalBsmtSF\"].mean() , inplace = True)"
   ]
  },
  {
   "cell_type": "code",
   "execution_count": 10,
   "metadata": {},
   "outputs": [],
   "source": [
    "train = train[['Id', 'MSSubClass', 'MSZoning', 'LotFrontage', 'LotArea', 'Street',\n",
    "       'Alley', 'LotShape', 'LandContour', 'Utilities', 'LotConfig',\n",
    "       'LandSlope', 'Neighborhood', 'Condition1', 'Condition2',\n",
    "       'BldgType', 'HouseStyle', 'OverallQual', 'OverallCond',\n",
    "       'YearBuilt', 'YearRemodAdd', 'RoofStyle', 'RoofMatl',\n",
    "       'Exterior1st', 'Exterior2nd', 'MasVnrType', 'MasVnrArea',\n",
    "       'ExterQual', 'ExterCond', 'Foundation', 'BsmtQual', 'BsmtCond',\n",
    "       'BsmtExposure', 'BsmtFinType1', 'BsmtFinSF1', 'BsmtFinType2',\n",
    "       'BsmtFinSF2', 'BsmtUnfSF', 'TotalBsmtSF', 'Heating', 'HeatingQC',\n",
    "       'CentralAir', 'Electrical', '1stFlrSF', '2ndFlrSF', 'LowQualFinSF',\n",
    "       'GrLivArea', 'BsmtFullBath', 'BsmtHalfBath', 'FullBath',\n",
    "       'HalfBath', 'BedroomAbvGr', 'KitchenAbvGr', 'KitchenQual',\n",
    "       'TotRmsAbvGrd', 'Functional', 'Fireplaces', 'FireplaceQu',\n",
    "       'GarageType','GarageAge', 'GarageFinish', 'GarageCars', 'GarageArea',\n",
    "       'GarageQual', 'GarageCond', 'PavedDrive', 'WoodDeckSF',\n",
    "       'OpenPorchSF', 'EnclosedPorch', '3SsnPorch', 'ScreenPorch',\n",
    "       'PoolArea', 'PoolQC', 'Fence', 'MiscFeature', 'MiscVal', 'MoSold',\n",
    "       'YrSold', 'SaleType', 'SaleCondition', 'SalePrice']]"
   ]
  },
  {
   "cell_type": "code",
   "execution_count": 11,
   "metadata": {},
   "outputs": [],
   "source": [
    "test = test[['Id', 'MSSubClass', 'MSZoning', 'LotFrontage', 'LotArea', 'Street',\n",
    "       'Alley', 'LotShape', 'LandContour', 'Utilities', 'LotConfig',\n",
    "       'LandSlope', 'Neighborhood', 'Condition1', 'Condition2',\n",
    "       'BldgType', 'HouseStyle', 'OverallQual', 'OverallCond',\n",
    "       'YearBuilt', 'YearRemodAdd', 'RoofStyle', 'RoofMatl',\n",
    "       'Exterior1st', 'Exterior2nd', 'MasVnrType', 'MasVnrArea',\n",
    "       'ExterQual', 'ExterCond', 'Foundation', 'BsmtQual', 'BsmtCond',\n",
    "       'BsmtExposure', 'BsmtFinType1', 'BsmtFinSF1', 'BsmtFinType2',\n",
    "       'BsmtFinSF2', 'BsmtUnfSF', 'TotalBsmtSF', 'Heating', 'HeatingQC',\n",
    "       'CentralAir', 'Electrical', '1stFlrSF', '2ndFlrSF', 'LowQualFinSF',\n",
    "       'GrLivArea', 'BsmtFullBath', 'BsmtHalfBath', 'FullBath',\n",
    "       'HalfBath', 'BedroomAbvGr', 'KitchenAbvGr', 'KitchenQual',\n",
    "       'TotRmsAbvGrd', 'Functional', 'Fireplaces', 'FireplaceQu',\n",
    "       'GarageType','GarageAge', 'GarageFinish', 'GarageCars', 'GarageArea',\n",
    "       'GarageQual', 'GarageCond', 'PavedDrive', 'WoodDeckSF',\n",
    "       'OpenPorchSF', 'EnclosedPorch', '3SsnPorch', 'ScreenPorch',\n",
    "       'PoolArea', 'PoolQC', 'Fence', 'MiscFeature', 'MiscVal', 'MoSold',\n",
    "       'YrSold', 'SaleType', 'SaleCondition']]"
   ]
  },
  {
   "cell_type": "code",
   "execution_count": 12,
   "metadata": {},
   "outputs": [],
   "source": [
    "train_WO = train.iloc[:,:-1]\n",
    "\n",
    "train_y = train.iloc[:,80].values"
   ]
  },
  {
   "cell_type": "code",
   "execution_count": 13,
   "metadata": {},
   "outputs": [
    {
     "data": {
      "text/html": [
       "<div>\n",
       "<style scoped>\n",
       "    .dataframe tbody tr th:only-of-type {\n",
       "        vertical-align: middle;\n",
       "    }\n",
       "\n",
       "    .dataframe tbody tr th {\n",
       "        vertical-align: top;\n",
       "    }\n",
       "\n",
       "    .dataframe thead th {\n",
       "        text-align: right;\n",
       "    }\n",
       "</style>\n",
       "<table border=\"1\" class=\"dataframe\">\n",
       "  <thead>\n",
       "    <tr style=\"text-align: right;\">\n",
       "      <th></th>\n",
       "      <th>Id</th>\n",
       "      <th>MSSubClass</th>\n",
       "      <th>MSZoning</th>\n",
       "      <th>LotFrontage</th>\n",
       "      <th>LotArea</th>\n",
       "      <th>Street</th>\n",
       "      <th>Alley</th>\n",
       "      <th>LotShape</th>\n",
       "      <th>LandContour</th>\n",
       "      <th>Utilities</th>\n",
       "      <th>...</th>\n",
       "      <th>ScreenPorch</th>\n",
       "      <th>PoolArea</th>\n",
       "      <th>PoolQC</th>\n",
       "      <th>Fence</th>\n",
       "      <th>MiscFeature</th>\n",
       "      <th>MiscVal</th>\n",
       "      <th>MoSold</th>\n",
       "      <th>YrSold</th>\n",
       "      <th>SaleType</th>\n",
       "      <th>SaleCondition</th>\n",
       "    </tr>\n",
       "  </thead>\n",
       "  <tbody>\n",
       "    <tr>\n",
       "      <th>0</th>\n",
       "      <td>1</td>\n",
       "      <td>60</td>\n",
       "      <td>RL</td>\n",
       "      <td>65.0</td>\n",
       "      <td>8450</td>\n",
       "      <td>Pave</td>\n",
       "      <td>No_access</td>\n",
       "      <td>Reg</td>\n",
       "      <td>Lvl</td>\n",
       "      <td>AllPub</td>\n",
       "      <td>...</td>\n",
       "      <td>0</td>\n",
       "      <td>0</td>\n",
       "      <td>No_Pool</td>\n",
       "      <td>No_Fence</td>\n",
       "      <td>No_Feature</td>\n",
       "      <td>0</td>\n",
       "      <td>2</td>\n",
       "      <td>2008</td>\n",
       "      <td>WD</td>\n",
       "      <td>Normal</td>\n",
       "    </tr>\n",
       "    <tr>\n",
       "      <th>1</th>\n",
       "      <td>2</td>\n",
       "      <td>20</td>\n",
       "      <td>RL</td>\n",
       "      <td>80.0</td>\n",
       "      <td>9600</td>\n",
       "      <td>Pave</td>\n",
       "      <td>No_access</td>\n",
       "      <td>Reg</td>\n",
       "      <td>Lvl</td>\n",
       "      <td>AllPub</td>\n",
       "      <td>...</td>\n",
       "      <td>0</td>\n",
       "      <td>0</td>\n",
       "      <td>No_Pool</td>\n",
       "      <td>No_Fence</td>\n",
       "      <td>No_Feature</td>\n",
       "      <td>0</td>\n",
       "      <td>5</td>\n",
       "      <td>2007</td>\n",
       "      <td>WD</td>\n",
       "      <td>Normal</td>\n",
       "    </tr>\n",
       "    <tr>\n",
       "      <th>2</th>\n",
       "      <td>3</td>\n",
       "      <td>60</td>\n",
       "      <td>RL</td>\n",
       "      <td>68.0</td>\n",
       "      <td>11250</td>\n",
       "      <td>Pave</td>\n",
       "      <td>No_access</td>\n",
       "      <td>IR1</td>\n",
       "      <td>Lvl</td>\n",
       "      <td>AllPub</td>\n",
       "      <td>...</td>\n",
       "      <td>0</td>\n",
       "      <td>0</td>\n",
       "      <td>No_Pool</td>\n",
       "      <td>No_Fence</td>\n",
       "      <td>No_Feature</td>\n",
       "      <td>0</td>\n",
       "      <td>9</td>\n",
       "      <td>2008</td>\n",
       "      <td>WD</td>\n",
       "      <td>Normal</td>\n",
       "    </tr>\n",
       "    <tr>\n",
       "      <th>3</th>\n",
       "      <td>4</td>\n",
       "      <td>70</td>\n",
       "      <td>RL</td>\n",
       "      <td>60.0</td>\n",
       "      <td>9550</td>\n",
       "      <td>Pave</td>\n",
       "      <td>No_access</td>\n",
       "      <td>IR1</td>\n",
       "      <td>Lvl</td>\n",
       "      <td>AllPub</td>\n",
       "      <td>...</td>\n",
       "      <td>0</td>\n",
       "      <td>0</td>\n",
       "      <td>No_Pool</td>\n",
       "      <td>No_Fence</td>\n",
       "      <td>No_Feature</td>\n",
       "      <td>0</td>\n",
       "      <td>2</td>\n",
       "      <td>2006</td>\n",
       "      <td>WD</td>\n",
       "      <td>Abnorml</td>\n",
       "    </tr>\n",
       "    <tr>\n",
       "      <th>4</th>\n",
       "      <td>5</td>\n",
       "      <td>60</td>\n",
       "      <td>RL</td>\n",
       "      <td>84.0</td>\n",
       "      <td>14260</td>\n",
       "      <td>Pave</td>\n",
       "      <td>No_access</td>\n",
       "      <td>IR1</td>\n",
       "      <td>Lvl</td>\n",
       "      <td>AllPub</td>\n",
       "      <td>...</td>\n",
       "      <td>0</td>\n",
       "      <td>0</td>\n",
       "      <td>No_Pool</td>\n",
       "      <td>No_Fence</td>\n",
       "      <td>No_Feature</td>\n",
       "      <td>0</td>\n",
       "      <td>12</td>\n",
       "      <td>2008</td>\n",
       "      <td>WD</td>\n",
       "      <td>Normal</td>\n",
       "    </tr>\n",
       "    <tr>\n",
       "      <th>...</th>\n",
       "      <td>...</td>\n",
       "      <td>...</td>\n",
       "      <td>...</td>\n",
       "      <td>...</td>\n",
       "      <td>...</td>\n",
       "      <td>...</td>\n",
       "      <td>...</td>\n",
       "      <td>...</td>\n",
       "      <td>...</td>\n",
       "      <td>...</td>\n",
       "      <td>...</td>\n",
       "      <td>...</td>\n",
       "      <td>...</td>\n",
       "      <td>...</td>\n",
       "      <td>...</td>\n",
       "      <td>...</td>\n",
       "      <td>...</td>\n",
       "      <td>...</td>\n",
       "      <td>...</td>\n",
       "      <td>...</td>\n",
       "      <td>...</td>\n",
       "    </tr>\n",
       "    <tr>\n",
       "      <th>1455</th>\n",
       "      <td>1456</td>\n",
       "      <td>60</td>\n",
       "      <td>RL</td>\n",
       "      <td>62.0</td>\n",
       "      <td>7917</td>\n",
       "      <td>Pave</td>\n",
       "      <td>No_access</td>\n",
       "      <td>Reg</td>\n",
       "      <td>Lvl</td>\n",
       "      <td>AllPub</td>\n",
       "      <td>...</td>\n",
       "      <td>0</td>\n",
       "      <td>0</td>\n",
       "      <td>No_Pool</td>\n",
       "      <td>No_Fence</td>\n",
       "      <td>No_Feature</td>\n",
       "      <td>0</td>\n",
       "      <td>8</td>\n",
       "      <td>2007</td>\n",
       "      <td>WD</td>\n",
       "      <td>Normal</td>\n",
       "    </tr>\n",
       "    <tr>\n",
       "      <th>1456</th>\n",
       "      <td>1457</td>\n",
       "      <td>20</td>\n",
       "      <td>RL</td>\n",
       "      <td>85.0</td>\n",
       "      <td>13175</td>\n",
       "      <td>Pave</td>\n",
       "      <td>No_access</td>\n",
       "      <td>Reg</td>\n",
       "      <td>Lvl</td>\n",
       "      <td>AllPub</td>\n",
       "      <td>...</td>\n",
       "      <td>0</td>\n",
       "      <td>0</td>\n",
       "      <td>No_Pool</td>\n",
       "      <td>MnPrv</td>\n",
       "      <td>No_Feature</td>\n",
       "      <td>0</td>\n",
       "      <td>2</td>\n",
       "      <td>2010</td>\n",
       "      <td>WD</td>\n",
       "      <td>Normal</td>\n",
       "    </tr>\n",
       "    <tr>\n",
       "      <th>1457</th>\n",
       "      <td>1458</td>\n",
       "      <td>70</td>\n",
       "      <td>RL</td>\n",
       "      <td>66.0</td>\n",
       "      <td>9042</td>\n",
       "      <td>Pave</td>\n",
       "      <td>No_access</td>\n",
       "      <td>Reg</td>\n",
       "      <td>Lvl</td>\n",
       "      <td>AllPub</td>\n",
       "      <td>...</td>\n",
       "      <td>0</td>\n",
       "      <td>0</td>\n",
       "      <td>No_Pool</td>\n",
       "      <td>GdPrv</td>\n",
       "      <td>Shed</td>\n",
       "      <td>2500</td>\n",
       "      <td>5</td>\n",
       "      <td>2010</td>\n",
       "      <td>WD</td>\n",
       "      <td>Normal</td>\n",
       "    </tr>\n",
       "    <tr>\n",
       "      <th>1458</th>\n",
       "      <td>1459</td>\n",
       "      <td>20</td>\n",
       "      <td>RL</td>\n",
       "      <td>68.0</td>\n",
       "      <td>9717</td>\n",
       "      <td>Pave</td>\n",
       "      <td>No_access</td>\n",
       "      <td>Reg</td>\n",
       "      <td>Lvl</td>\n",
       "      <td>AllPub</td>\n",
       "      <td>...</td>\n",
       "      <td>0</td>\n",
       "      <td>0</td>\n",
       "      <td>No_Pool</td>\n",
       "      <td>No_Fence</td>\n",
       "      <td>No_Feature</td>\n",
       "      <td>0</td>\n",
       "      <td>4</td>\n",
       "      <td>2010</td>\n",
       "      <td>WD</td>\n",
       "      <td>Normal</td>\n",
       "    </tr>\n",
       "    <tr>\n",
       "      <th>1459</th>\n",
       "      <td>1460</td>\n",
       "      <td>20</td>\n",
       "      <td>RL</td>\n",
       "      <td>75.0</td>\n",
       "      <td>9937</td>\n",
       "      <td>Pave</td>\n",
       "      <td>No_access</td>\n",
       "      <td>Reg</td>\n",
       "      <td>Lvl</td>\n",
       "      <td>AllPub</td>\n",
       "      <td>...</td>\n",
       "      <td>0</td>\n",
       "      <td>0</td>\n",
       "      <td>No_Pool</td>\n",
       "      <td>No_Fence</td>\n",
       "      <td>No_Feature</td>\n",
       "      <td>0</td>\n",
       "      <td>6</td>\n",
       "      <td>2008</td>\n",
       "      <td>WD</td>\n",
       "      <td>Normal</td>\n",
       "    </tr>\n",
       "  </tbody>\n",
       "</table>\n",
       "<p>1460 rows × 80 columns</p>\n",
       "</div>"
      ],
      "text/plain": [
       "        Id  MSSubClass MSZoning LotFrontage  LotArea Street      Alley  \\\n",
       "0        1          60       RL        65.0     8450   Pave  No_access   \n",
       "1        2          20       RL        80.0     9600   Pave  No_access   \n",
       "2        3          60       RL        68.0    11250   Pave  No_access   \n",
       "3        4          70       RL        60.0     9550   Pave  No_access   \n",
       "4        5          60       RL        84.0    14260   Pave  No_access   \n",
       "...    ...         ...      ...         ...      ...    ...        ...   \n",
       "1455  1456          60       RL        62.0     7917   Pave  No_access   \n",
       "1456  1457          20       RL        85.0    13175   Pave  No_access   \n",
       "1457  1458          70       RL        66.0     9042   Pave  No_access   \n",
       "1458  1459          20       RL        68.0     9717   Pave  No_access   \n",
       "1459  1460          20       RL        75.0     9937   Pave  No_access   \n",
       "\n",
       "     LotShape LandContour Utilities  ... ScreenPorch PoolArea   PoolQC  \\\n",
       "0         Reg         Lvl    AllPub  ...           0        0  No_Pool   \n",
       "1         Reg         Lvl    AllPub  ...           0        0  No_Pool   \n",
       "2         IR1         Lvl    AllPub  ...           0        0  No_Pool   \n",
       "3         IR1         Lvl    AllPub  ...           0        0  No_Pool   \n",
       "4         IR1         Lvl    AllPub  ...           0        0  No_Pool   \n",
       "...       ...         ...       ...  ...         ...      ...      ...   \n",
       "1455      Reg         Lvl    AllPub  ...           0        0  No_Pool   \n",
       "1456      Reg         Lvl    AllPub  ...           0        0  No_Pool   \n",
       "1457      Reg         Lvl    AllPub  ...           0        0  No_Pool   \n",
       "1458      Reg         Lvl    AllPub  ...           0        0  No_Pool   \n",
       "1459      Reg         Lvl    AllPub  ...           0        0  No_Pool   \n",
       "\n",
       "         Fence MiscFeature MiscVal MoSold  YrSold  SaleType  SaleCondition  \n",
       "0     No_Fence  No_Feature       0      2    2008        WD         Normal  \n",
       "1     No_Fence  No_Feature       0      5    2007        WD         Normal  \n",
       "2     No_Fence  No_Feature       0      9    2008        WD         Normal  \n",
       "3     No_Fence  No_Feature       0      2    2006        WD        Abnorml  \n",
       "4     No_Fence  No_Feature       0     12    2008        WD         Normal  \n",
       "...        ...         ...     ...    ...     ...       ...            ...  \n",
       "1455  No_Fence  No_Feature       0      8    2007        WD         Normal  \n",
       "1456     MnPrv  No_Feature       0      2    2010        WD         Normal  \n",
       "1457     GdPrv        Shed    2500      5    2010        WD         Normal  \n",
       "1458  No_Fence  No_Feature       0      4    2010        WD         Normal  \n",
       "1459  No_Fence  No_Feature       0      6    2008        WD         Normal  \n",
       "\n",
       "[1460 rows x 80 columns]"
      ]
     },
     "execution_count": 13,
     "metadata": {},
     "output_type": "execute_result"
    }
   ],
   "source": [
    "train_WO"
   ]
  },
  {
   "cell_type": "code",
   "execution_count": 14,
   "metadata": {},
   "outputs": [],
   "source": [
    "dataset = pd.concat([train_WO,test],axis=0)"
   ]
  },
  {
   "cell_type": "code",
   "execution_count": 15,
   "metadata": {},
   "outputs": [],
   "source": [
    "train_x = dataset.iloc[:,0:80].values"
   ]
  },
  {
   "cell_type": "code",
   "execution_count": 16,
   "metadata": {},
   "outputs": [],
   "source": [
    "train_x = pd.DataFrame(train_x)"
   ]
  },
  {
   "cell_type": "code",
   "execution_count": 17,
   "metadata": {},
   "outputs": [
    {
     "name": "stderr",
     "output_type": "stream",
     "text": [
      "C:\\Users\\vijay\\anaconda3\\lib\\site-packages\\pandas\\core\\algorithms.py:798: FutureWarning: In a future version, the Index constructor will not infer numeric dtypes when passed object-dtype sequences (matching Series behavior)\n",
      "  uniques = Index(uniques)\n"
     ]
    }
   ],
   "source": [
    "dummies = pd.get_dummies(data=train_x, columns=[1,2,5,6,7,8,9,10,11,12,13,14,15,16,17,18,21,22,23,24,25,27,28,29,30,31,32,33,35,39,40,41,42,53,55,57,58,60,63,64,65,72,73,74,78,79],drop_first = True)"
   ]
  },
  {
   "cell_type": "code",
   "execution_count": 18,
   "metadata": {},
   "outputs": [],
   "source": [
    "dummies[\"intercept\"]=1"
   ]
  },
  {
   "cell_type": "code",
   "execution_count": 19,
   "metadata": {},
   "outputs": [],
   "source": [
    "objlist=[0,3,4,19,20,26,34,36,37,38,43,44,45,46,47,48,49,50,51,52,54,56,59,61,62,66,67,68,69,70,71,75,76,77]"
   ]
  },
  {
   "cell_type": "code",
   "execution_count": 20,
   "metadata": {},
   "outputs": [],
   "source": [
    "for i in objlist:\n",
    "      dummies[i] = dummies[i].astype(\"float64\")"
   ]
  },
  {
   "cell_type": "code",
   "execution_count": 21,
   "metadata": {},
   "outputs": [],
   "source": [
    "from statsmodels.stats.outliers_influence import variance_inflation_factor"
   ]
  },
  {
   "cell_type": "code",
   "execution_count": 22,
   "metadata": {},
   "outputs": [],
   "source": [
    "vif = pd.DataFrame()\n",
    "vif['variables'] = dummies.columns"
   ]
  },
  {
   "cell_type": "code",
   "execution_count": null,
   "metadata": {},
   "outputs": [
    {
     "name": "stderr",
     "output_type": "stream",
     "text": [
      "C:\\Users\\vijay\\anaconda3\\lib\\site-packages\\statsmodels\\stats\\outliers_influence.py:195: RuntimeWarning: divide by zero encountered in double_scalars\n",
      "  vif = 1. / (1. - r_squared_i)\n"
     ]
    }
   ],
   "source": [
    "vif['vif_values'] = [variance_inflation_factor(dummies.values,i) for i in range(dummies.shape[1])]"
   ]
  },
  {
   "cell_type": "code",
   "execution_count": null,
   "metadata": {},
   "outputs": [],
   "source": [
    "pd.set_option('display.max_rows', None)\n",
    "vif"
   ]
  },
  {
   "cell_type": "code",
   "execution_count": null,
   "metadata": {},
   "outputs": [],
   "source": [
    "inf_list=[34,36,37,38,43,44,45,46,\"1_90\",\"15_Duplex\",\"60_No_Garage\",\"63_No_Garage\",\"64_No_Garage\"]"
   ]
  },
  {
   "cell_type": "code",
   "execution_count": null,
   "metadata": {},
   "outputs": [],
   "source": [
    "three_list = [,\"13_Feedr\",\"13_Norm\",\"14_Feedr\",\"14_Norm\",\"15_TwnhsE\",\"16_1.5Unf\",\"16_1Story\",\"16_2.5Unf\",\"16_2Story\",\n",
    "            \"16_SFoyer\",\"17_2\",\"17_5\",\"17_9\",\"18_2\",\"18_6\",\"18_7\",\"18_8\",\"21_Hip\",\"21_Mansard\",\"22_CompShg\",\"22_Membran\",\n",
    "            \"22_Metal\",\"22_Tar&Grv\",\"23_CemntBd\",\"23_HdBoard\",\"23_MetalSd\",\"23_Stucco\",\"23_Wd Sdng\",\"23_WdShing\",\"24_Brk Cmn\",\n",
    "        \"24_BrkFace\",\"79_Partial\",\"79_Normal\",\"78_WD\",\"78_New\",\"74_Shed\",\"74_No_Feature\",\"73_No_Fence\",\"73_MnPrv\",\n",
    "            \"72_No_Pool\",\"72_Gd\",\"72_Fa\",\"64_Fa\",\"63_Fa\"]"
   ]
  },
  {
   "cell_type": "code",
   "execution_count": null,
   "metadata": {},
   "outputs": [],
   "source": [
    "dummies.drop(columns=inf_list,inplace=True)"
   ]
  },
  {
   "cell_type": "code",
   "execution_count": null,
   "metadata": {},
   "outputs": [],
   "source": [
    "tt_list = vif[vif['vif_values']>3.0]['variables'].values "
   ]
  },
  {
   "cell_type": "code",
   "execution_count": null,
   "metadata": {},
   "outputs": [],
   "source": [
    "dummies.drop(columns = [20, 49, 51, 54, 56, 59, 61, 62, 71, '1_45','1_70', '1_75', '1_85','1_180','2_RH', '2_RL','8_Lvl', '12_BrDale', '12_BrkSide','12_ClearCr', '12_Crawfor','12_Gilbert', '12_IDOTRR','12_MeadowV', '12_Mitchel','12_NPkVill', '12_NWAmes', '12_NoRidge', '12_NridgHt',\n",
    "       '12_SWISU', '12_Sawyer', '12_SawyerW',\n",
    "       '12_StoneBr', '12_Timber','13_Norm', '14_Feedr',\n",
    "       '14_Norm', '15_2fmCon', '15_TwnhsE', '16_1.5Unf',\n",
    "       '16_1Story', '16_2.5Unf', '16_2Story', '16_SFoyer',\n",
    "       '17_2','17_5','17_9',\n",
    "     '18_2','18_6', '18_7', '18_8',\n",
    "        '21_Gambrel', '21_Hip', '21_Mansard',\n",
    "       '22_CompShg', '22_Membran', '22_Metal', '22_Tar&Grv',\n",
    "       '23_CemntBd', '23_HdBoard',\n",
    "       '23_MetalSd','23_Stucco',\n",
    "       '23_Wd Sdng', '23_WdShing', '24_Brk Cmn', '24_BrkFace',\n",
    "       '24_CmentBd', '24_HdBoard', '24_ImStucc', '24_MetalSd',\n",
    "       '24_Plywood', '24_Stucco', '24_Wd Sdng',\n",
    "       '25_None','28_Fa','28_TA', '29_CBlock', '29_PConc',\n",
    "       '29_Slab', '30_Gd', '30_No_Basement','31_No_Basement',\n",
    "       '31_TA', '32_No', '32_No_Basement', '33_GLQ', '33_No_Basement',\n",
    "       '33_Unf', '35_LwQ', '35_No_Basement', '35_Rec', '35_Unf',\n",
    "       '39_GasA', '39_GasW', '39_OthW', '39_Wall', '53_Gd',\n",
    "       '55_Min1', '55_Min2', '55_Mod','57_Fa',\n",
    "       '58_Attchd', '58_Basment',\n",
    "       '58_Detchd', '58_No_Garage', '60_Unf', '63_Fa',\n",
    "       '63_Po','64_Fa','72_Fa', '72_Gd', '72_No_Pool', '73_MnPrv', '73_No_Fence',\n",
    "       '74_No_Feature', '74_Shed', '78_New', '78_WD', '79_Normal',\n",
    "       '79_Partial'],inplace=True)\n",
    "\n",
    "dummies.drop(columns=[19,\"2_FV\",\"12_Somerst\",\"57_Gd\",\"57_No_Fireplace\",\"57_TA\",\"63_TA\",\"64_TA\"],inplace = True)"
   ]
  },
  {
   "cell_type": "code",
   "execution_count": null,
   "metadata": {},
   "outputs": [],
   "source": [
    "dummies.drop(columns=0,inplace = True)"
   ]
  },
  {
   "cell_type": "code",
   "execution_count": null,
   "metadata": {},
   "outputs": [],
   "source": [
    "ds_train=dummies.iloc[:1460,:]\n",
    "ds_test=dummies.iloc[:1459,:].values"
   ]
  },
  {
   "cell_type": "code",
   "execution_count": null,
   "metadata": {},
   "outputs": [],
   "source": [
    "ds_train_x = ds_train.iloc[:,:-1].values"
   ]
  },
  {
   "cell_type": "code",
   "execution_count": null,
   "metadata": {},
   "outputs": [],
   "source": [
    "from sklearn.linear_model import LinearRegression"
   ]
  },
  {
   "cell_type": "code",
   "execution_count": null,
   "metadata": {},
   "outputs": [],
   "source": [
    "reg = LinearRegression()\n",
    "reg.fit(ds_train_x,train_y)"
   ]
  },
  {
   "cell_type": "code",
   "execution_count": null,
   "metadata": {},
   "outputs": [],
   "source": []
  }
 ],
 "metadata": {
  "kernelspec": {
   "display_name": "Python 3 (ipykernel)",
   "language": "python",
   "name": "python3"
  },
  "language_info": {
   "codemirror_mode": {
    "name": "ipython",
    "version": 3
   },
   "file_extension": ".py",
   "mimetype": "text/x-python",
   "name": "python",
   "nbconvert_exporter": "python",
   "pygments_lexer": "ipython3",
   "version": "3.8.3"
  }
 },
 "nbformat": 4,
 "nbformat_minor": 4
}
